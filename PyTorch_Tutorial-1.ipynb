{
 "cells": [
  {
   "cell_type": "code",
   "execution_count": null,
   "metadata": {},
   "outputs": [],
   "source": [
    "# Deep Learning with PyTorch: Zero to GANs"
   ]
  },
  {
   "cell_type": "code",
   "execution_count": 1,
   "metadata": {},
   "outputs": [],
   "source": [
    "import torch\n",
    "import numpy as np"
   ]
  },
  {
   "cell_type": "markdown",
   "metadata": {},
   "source": [
    "## Autograd Feature"
   ]
  },
  {
   "cell_type": "code",
   "execution_count": 3,
   "metadata": {},
   "outputs": [
    {
     "data": {
      "text/plain": [
       "tensor(17., grad_fn=<AddBackward0>)"
      ]
     },
     "execution_count": 3,
     "metadata": {},
     "output_type": "execute_result"
    }
   ],
   "source": [
    "# understanding autograd (1/2)\n",
    "\n",
    "# Create tensors.\n",
    "x = torch.tensor(3.)\n",
    "w = torch.tensor(4., requires_grad=True)\n",
    "b = torch.tensor(5., requires_grad=True)\n",
    "\n",
    "# Arithmetic operation\n",
    "y = w * x + b \n",
    "y"
   ]
  },
  {
   "cell_type": "code",
   "execution_count": 4,
   "metadata": {},
   "outputs": [
    {
     "name": "stdout",
     "output_type": "stream",
     "text": [
      "dy/dx: None\n",
      "dy/dw: tensor(3.)\n",
      "dy/db: tensor(1.)\n"
     ]
    }
   ],
   "source": [
    "# understanding autograd (2/2)\n",
    "\n",
    "# To compute derivatives\n",
    "y.backward()\n",
    "\n",
    "# Display gradients\n",
    "print('dy/dx:', x.grad) # because we didn't set requires_grad = true\n",
    "print('dy/dw:', w.grad)\n",
    "print('dy/db:', b.grad)"
   ]
  },
  {
   "cell_type": "markdown",
   "metadata": {},
   "source": [
    "## Linear Regression in Pytorch"
   ]
  },
  {
   "cell_type": "code",
   "execution_count": 5,
   "metadata": {},
   "outputs": [
    {
     "name": "stdout",
     "output_type": "stream",
     "text": [
      "tensor([[-1.9520,  0.9178, -0.7273],\n",
      "        [-0.4591,  0.6602, -0.3299]], requires_grad=True)\n",
      "tensor([ 1.1786, -0.8726], requires_grad=True)\n"
     ]
    }
   ],
   "source": [
    "# Linear Regression (1/8)\n",
    "\n",
    "# Input (temp, rainfall, humidity)\n",
    "inputs = np.array([[73, 67, 43], \n",
    "                   [91, 88, 64], \n",
    "                   [87, 134, 58], \n",
    "                   [102, 43, 37], \n",
    "                   [69, 96, 70]], dtype='float32')\n",
    "\n",
    "# Targets (apples, oranges)\n",
    "targets = np.array([[56, 70], \n",
    "                    [81, 101], \n",
    "                    [119, 133], \n",
    "                    [22, 37], \n",
    "                    [103, 119]], dtype='float32')\n",
    "\n",
    "# Convert inputs and targets to tensors\n",
    "inputs = torch.from_numpy(inputs)\n",
    "targets = torch.from_numpy(targets)\n",
    "\n",
    "# Randomly initialize weights and biases\n",
    "w = torch.randn(2, 3, requires_grad=True)\n",
    "b = torch.randn(2, requires_grad=True)\n",
    "print(w)\n",
    "print(b)"
   ]
  },
  {
   "cell_type": "code",
   "execution_count": 11,
   "metadata": {},
   "outputs": [
    {
     "name": "stdout",
     "output_type": "stream",
     "text": [
      "Predictions: tensor([[ -82.2869,    9.2388],\n",
      "        [-104.3973,   12.1847],\n",
      "        [ -43.3831,   49.6040],\n",
      "        [-156.4236,  -18.0168],\n",
      "        [ -60.1853,   24.8644]], grad_fn=<AddBackward0>)\n",
      "Targets: tensor([[ 56.,  70.],\n",
      "        [ 81., 101.],\n",
      "        [119., 133.],\n",
      "        [ 22.,  37.],\n",
      "        [103., 119.]])\n",
      "loss: tensor(16875.1484, grad_fn=<DivBackward0>)\n"
     ]
    }
   ],
   "source": [
    "# Linear Regression (2/8)\n",
    "\n",
    "# we will perform: X x Transposed(W) + B\n",
    "\n",
    "def model(x):\n",
    "    return x @ w.t() + b\n",
    "\n",
    "# Generate predictions\n",
    "preds = model(inputs)\n",
    "print('Predictions:',preds)\n",
    "print('Targets:',targets)\n",
    "\n",
    "# MSE loss\n",
    "def mse(t1, t2):\n",
    "    diff = t1 - t2\n",
    "    return torch.sum(diff * diff) / diff.numel()\n",
    "\n",
    "# Compute loss\n",
    "loss = mse(preds, targets)\n",
    "print('loss:',loss)"
   ]
  },
  {
   "cell_type": "code",
   "execution_count": 12,
   "metadata": {},
   "outputs": [
    {
     "name": "stdout",
     "output_type": "stream",
     "text": [
      "tensor([[-1.7812,  1.0910, -0.6171],\n",
      "        [-0.3813,  0.7442, -0.2771]], requires_grad=True)\n",
      "tensor([[-14110.4863, -14135.5068,  -9050.9277],\n",
      "        [ -6376.0552,  -6892.9087,  -4351.7974]])\n",
      "new loss: tensor(16875.1484, grad_fn=<DivBackward0>)\n",
      "tensor([[0., 0., 0.],\n",
      "        [0., 0., 0.]])\n",
      "tensor([0., 0.])\n"
     ]
    }
   ],
   "source": [
    "# Linear Regression (3/8)\n",
    "\n",
    "# understand the role of gradients in reducing loss\n",
    "\n",
    "# Compute gradients\n",
    "loss.backward()\n",
    "\n",
    "# Gradients for weights\n",
    "print(w)\n",
    "print(w.grad)\n",
    "\n",
    "with torch.no_grad(): # signals pytorch to ignore computing gradients\n",
    "    w -= w.grad * 1e-5 # 1e-5 is Learning rate\n",
    "    b -= b.grad * 1e-5\n",
    "    \n",
    "loss = mse(preds, targets) \n",
    "print('new loss:',loss)\n",
    "\n",
    "w.grad.zero_()\n",
    "b.grad.zero_()\n",
    "print(w.grad)\n",
    "print(b.grad)"
   ]
  },
  {
   "cell_type": "code",
   "execution_count": 17,
   "metadata": {},
   "outputs": [
    {
     "name": "stdout",
     "output_type": "stream",
     "text": [
      "loss tensor(31.5303, grad_fn=<DivBackward0>)\n",
      "tensor([[ 57.6246,  70.6599],\n",
      "        [ 78.1743,  96.6930],\n",
      "        [127.1296, 141.4369],\n",
      "        [ 22.1513,  39.4722],\n",
      "        [ 94.5166, 110.6143]], grad_fn=<AddBackward0>)\n",
      "tensor([[ 56.,  70.],\n",
      "        [ 81., 101.],\n",
      "        [119., 133.],\n",
      "        [ 22.,  37.],\n",
      "        [103., 119.]])\n",
      "tensor([72.9877, 91.5663], grad_fn=<AddBackward0>)\n"
     ]
    }
   ],
   "source": [
    "# Linear Regression (4/8)\n",
    "\n",
    "# now, putting everything together\n",
    "# Train for 100 epochs\n",
    "for i in range(150):\n",
    "    preds = model(inputs)\n",
    "    loss = mse(preds, targets)\n",
    "    loss.backward()\n",
    "    with torch.no_grad():\n",
    "        w -= w.grad * 1e-5\n",
    "        b -= b.grad * 1e-5\n",
    "        w.grad.zero_()\n",
    "        b.grad.zero_()\n",
    "        \n",
    "# Calculate loss\n",
    "preds = model(inputs)\n",
    "loss = mse(preds, targets)\n",
    "print('loss',loss) # Squared loss is 62, real loss is sqrt of this = ~8\n",
    "\n",
    "# Predictions\n",
    "print(preds)\n",
    "\n",
    "# Targets\n",
    "print(targets)\n",
    "\n",
    "print(model(torch.Tensor([45, 65, 92]))) # using the trained model to predict"
   ]
  },
  {
   "cell_type": "code",
   "execution_count": 18,
   "metadata": {},
   "outputs": [],
   "source": [
    "# Linear Regression (5/8)\n",
    "\n",
    "# using built in functions in pytorch\n",
    "\n",
    "import torch.nn as nn\n",
    "# Input (temp, rainfall, humidity)\n",
    "inputs = np.array([[73, 67, 43], \n",
    "                   [91, 88, 64], \n",
    "                   [87, 134, 58], \n",
    "                   [102, 43, 37], \n",
    "                   [69, 96, 70], \n",
    "                   [74, 66, 43], \n",
    "                   [91, 87, 65], \n",
    "                   [88, 134, 59], \n",
    "                   [101, 44, 37], \n",
    "                   [68, 96, 71], \n",
    "                   [73, 66, 44], \n",
    "                   [92, 87, 64], \n",
    "                   [87, 135, 57], \n",
    "                   [103, 43, 36], \n",
    "                   [68, 97, 70]], \n",
    "                  dtype='float32')\n",
    "\n",
    "# Targets (apples, oranges)\n",
    "targets = np.array([[56, 70], \n",
    "                    [81, 101], \n",
    "                    [119, 133], \n",
    "                    [22, 37], \n",
    "                    [103, 119],\n",
    "                    [57, 69], \n",
    "                    [80, 102], \n",
    "                    [118, 132], \n",
    "                    [21, 38], \n",
    "                    [104, 118], \n",
    "                    [57, 69], \n",
    "                    [82, 100], \n",
    "                    [118, 134], \n",
    "                    [20, 38], \n",
    "                    [102, 120]], \n",
    "                   dtype='float32')\n",
    "\n",
    "inputs = torch.from_numpy(inputs)\n",
    "targets = torch.from_numpy(targets)"
   ]
  },
  {
   "cell_type": "code",
   "execution_count": 20,
   "metadata": {},
   "outputs": [
    {
     "name": "stdout",
     "output_type": "stream",
     "text": [
      "(tensor([[ 73.,  67.,  43.],\n",
      "        [ 91.,  88.,  64.],\n",
      "        [ 87., 134.,  58.]]), tensor([[ 56.,  70.],\n",
      "        [ 81., 101.],\n",
      "        [119., 133.]]))\n",
      "tensor([[ 68.,  96.,  71.],\n",
      "        [ 69.,  96.,  70.],\n",
      "        [ 73.,  66.,  44.],\n",
      "        [ 88., 134.,  59.],\n",
      "        [ 91.,  88.,  64.]])\n",
      "tensor([[104., 118.],\n",
      "        [103., 119.],\n",
      "        [ 57.,  69.],\n",
      "        [118., 132.],\n",
      "        [ 81., 101.]])\n"
     ]
    }
   ],
   "source": [
    "# Linear Regression (6/8)\n",
    "\n",
    "from torch.utils.data import TensorDataset\n",
    "train_ds = TensorDataset(inputs, targets)\n",
    "print(train_ds[0:3]) # shows first three inputs and outputs\n",
    "\n",
    "from torch.utils.data import DataLoader\n",
    "# Define data loader\n",
    "batch_size = 5\n",
    "train_dl = DataLoader(train_ds, batch_size, shuffle=True)\n",
    "\n",
    "# to see what is in train_dl\n",
    "\n",
    "for xb, yb in train_dl:\n",
    "    print(xb)\n",
    "    print(yb)\n",
    "    break"
   ]
  },
  {
   "cell_type": "code",
   "execution_count": 21,
   "metadata": {},
   "outputs": [
    {
     "name": "stdout",
     "output_type": "stream",
     "text": [
      "Parameter containing:\n",
      "tensor([[-0.3974,  0.0260, -0.5769],\n",
      "        [-0.0488, -0.0995, -0.0437]], requires_grad=True)\n",
      "Parameter containing:\n",
      "tensor([ 0.5328, -0.2860], requires_grad=True)\n",
      "predictions tensor([[-51.5439, -12.3929],\n",
      "        [-70.2664, -16.2785],\n",
      "        [-64.0177, -20.3978],\n",
      "        [-60.2332, -11.1572],\n",
      "        [-64.7758, -16.2637],\n",
      "        [-51.9674, -12.3422],\n",
      "        [-70.8693, -16.2227],\n",
      "        [-64.9921, -20.4903],\n",
      "        [-59.8097, -11.2079],\n",
      "        [-64.9552, -16.2586],\n",
      "        [-52.1468, -12.3371],\n",
      "        [-70.6899, -16.2277],\n",
      "        [-63.4148, -20.4536],\n",
      "        [-60.0537, -11.1622],\n",
      "        [-64.3523, -16.3144]], grad_fn=<AddmmBackward>)\n",
      "tensor(16741.0977, grad_fn=<MseLossBackward>)\n"
     ]
    }
   ],
   "source": [
    "# Linear Regression (7/8)\n",
    "\n",
    "# instead of initializing the weights & biases manually using the nn.Linear\n",
    "\n",
    "# Define model\n",
    "model = nn.Linear(3, 2)\n",
    "print(model.weight)\n",
    "print(model.bias)\n",
    "\n",
    "# Parameters\n",
    "list(model.parameters())\n",
    "\n",
    "# Generate predictions\n",
    "preds = model(inputs)\n",
    "print('predictions',preds)\n",
    "\n",
    "# Import nn.functional for using built in loss functon\n",
    "import torch.nn.functional as F\n",
    "\n",
    "# Define loss function\n",
    "loss_fn = F.mse_loss\n",
    "\n",
    "loss = loss_fn(model(inputs), targets)\n",
    "print(loss)\n",
    "\n",
    "# Define optimizer\n",
    "opt = torch.optim.SGD(model.parameters(), lr=1e-5)"
   ]
  },
  {
   "cell_type": "code",
   "execution_count": 23,
   "metadata": {},
   "outputs": [
    {
     "name": "stdout",
     "output_type": "stream",
     "text": [
      "Epoch [10/100], Loss: 29.5932\n",
      "Epoch [20/100], Loss: 44.9392\n",
      "Epoch [30/100], Loss: 29.8473\n",
      "Epoch [40/100], Loss: 17.0056\n",
      "Epoch [50/100], Loss: 36.6529\n",
      "Epoch [60/100], Loss: 30.2027\n",
      "Epoch [70/100], Loss: 20.4752\n",
      "Epoch [80/100], Loss: 23.2923\n",
      "Epoch [90/100], Loss: 18.8860\n",
      "Epoch [100/100], Loss: 19.5450\n",
      "predictions tensor([[ 57.5058,  70.7362],\n",
      "        [ 78.8171,  98.5265],\n",
      "        [124.5934, 136.8845],\n",
      "        [ 23.1758,  39.7365],\n",
      "        [ 94.9987, 113.7835],\n",
      "        [ 56.2040,  69.6378],\n",
      "        [ 78.0793,  98.2347],\n",
      "        [124.5617, 137.2839],\n",
      "        [ 24.4776,  40.8350],\n",
      "        [ 95.5628, 114.5902],\n",
      "        [ 56.7680,  70.4445],\n",
      "        [ 77.5153,  97.4280],\n",
      "        [125.3311, 137.1763],\n",
      "        [ 22.6117,  38.9298],\n",
      "        [ 96.3006, 114.8820]], grad_fn=<AddmmBackward>)\n",
      "targets tensor([[ 56.,  70.],\n",
      "        [ 81., 101.],\n",
      "        [119., 133.],\n",
      "        [ 22.,  37.],\n",
      "        [103., 119.],\n",
      "        [ 57.,  69.],\n",
      "        [ 80., 102.],\n",
      "        [118., 132.],\n",
      "        [ 21.,  38.],\n",
      "        [104., 118.],\n",
      "        [ 57.,  69.],\n",
      "        [ 82., 100.],\n",
      "        [118., 134.],\n",
      "        [ 20.,  38.],\n",
      "        [102., 120.]])\n"
     ]
    }
   ],
   "source": [
    "# Linear Regression (8/8)\n",
    "\n",
    "# Utility function to train the model\n",
    "\n",
    "def fit(num_epochs, model, loss_fn, opt, train_dl):\n",
    "    \n",
    "    # Repeat for given number of epochs\n",
    "    for epoch in range(num_epochs):\n",
    "        \n",
    "        # Train with batches of data\n",
    "        for xb,yb in train_dl:\n",
    "            \n",
    "            # 1. Generate predictions\n",
    "            pred = model(xb)\n",
    "            \n",
    "            # 2. Calculate loss\n",
    "            loss = loss_fn(pred, yb)\n",
    "            \n",
    "            # 3. Compute gradients\n",
    "            loss.backward()\n",
    "            \n",
    "            # 4. Update parameters using gradients\n",
    "            opt.step()\n",
    "            \n",
    "            # 5. Reset the gradients to zero\n",
    "            opt.zero_grad()\n",
    "        \n",
    "        # Print the progress\n",
    "        if (epoch+1) % 10 == 0:\n",
    "            print('Epoch [{}/{}], Loss: {:.4f}'.format(epoch+1, num_epochs, loss.item()))\n",
    "            \n",
    "\n",
    "fit(100, model, loss_fn, opt, train_dl)\n",
    "\n",
    "# Generate predictions\n",
    "preds = model(inputs)\n",
    "print('predictions',preds)\n",
    "print('targets',targets)"
   ]
  },
  {
   "cell_type": "markdown",
   "metadata": {},
   "source": [
    "## Working with Image Data"
   ]
  },
  {
   "cell_type": "code",
   "execution_count": 33,
   "metadata": {},
   "outputs": [
    {
     "name": "stdout",
     "output_type": "stream",
     "text": [
      "60000\n",
      "10000\n"
     ]
    }
   ],
   "source": [
    "# Using MNIST data\n",
    "\n",
    "import torch\n",
    "import torchvision\n",
    "from torchvision.datasets import MNIST\n",
    "\n",
    "# Download training dataset\n",
    "dataset = MNIST(root='data/', download=False) \n",
    "\n",
    "print(len(dataset))\n",
    "\n",
    "test_dataset = MNIST(root='data/', train=False)\n",
    "print(len(test_dataset))"
   ]
  },
  {
   "cell_type": "code",
   "execution_count": 34,
   "metadata": {},
   "outputs": [
    {
     "name": "stdout",
     "output_type": "stream",
     "text": [
      "Label: 5\n"
     ]
    },
    {
     "data": {
      "image/png": "[encoded data removed]",
      "text/plain": [
       "<Figure size 432x288 with 1 Axes>"
      ]
     },
     "metadata": {
      "needs_background": "light"
     },
     "output_type": "display_data"
    }
   ],
   "source": [
    "dataset[0]\n",
    "\n",
    "import matplotlib.pyplot as plt\n",
    "%matplotlib inline\n",
    "\n",
    "image, label = dataset[0]\n",
    "plt.imshow(image, cmap='gray')\n",
    "print('Label:', label)"
   ]
  },
  {
   "cell_type": "code",
   "execution_count": 52,
   "metadata": {},
   "outputs": [
    {
     "name": "stdout",
     "output_type": "stream",
     "text": [
      "torch.Size([1, 28, 28]) 5\n"
     ]
    }
   ],
   "source": [
    "import torchvision.transforms as transforms # to convert image to tensors\n",
    "\n",
    "dataset = MNIST(root='data/', \n",
    "                train=True,\n",
    "                transform=transforms.ToTensor())\n",
    "\n",
    "img_tensor, label = dataset[0]\n",
    "print(img_tensor.shape, label)"
   ]
  },
  {
   "cell_type": "code",
   "execution_count": 53,
   "metadata": {},
   "outputs": [
    {
     "name": "stdout",
     "output_type": "stream",
     "text": [
      "50000\n",
      "10000\n"
     ]
    }
   ],
   "source": [
    "# Train and Validation Split\n",
    "\n",
    "from torch.utils.data import random_split\n",
    "\n",
    "train_ds, val_ds = random_split(dataset, [50000, 10000])\n",
    "print(len(train_ds))\n",
    "print(len(val_ds))\n",
    "\n",
    "from torch.utils.data import DataLoader\n",
    "batch_size = 128\n",
    "\n",
    "train_loader = DataLoader(train_ds, batch_size, shuffle=True)\n",
    "val_loader = DataLoader(val_ds, batch_size)"
   ]
  },
  {
   "cell_type": "code",
   "execution_count": 54,
   "metadata": {},
   "outputs": [
    {
     "name": "stdout",
     "output_type": "stream",
     "text": [
      "torch.Size([10, 784])\n",
      "Parameter containing:\n",
      "tensor([[-0.0299,  0.0305,  0.0102,  ...,  0.0009, -0.0175,  0.0342],\n",
      "        [-0.0096, -0.0355,  0.0194,  ...,  0.0127,  0.0013,  0.0285],\n",
      "        [-0.0268,  0.0344,  0.0317,  ...,  0.0175,  0.0089,  0.0004],\n",
      "        ...,\n",
      "        [ 0.0070,  0.0274, -0.0335,  ...,  0.0163, -0.0164,  0.0166],\n",
      "        [ 0.0312,  0.0230, -0.0351,  ..., -0.0111, -0.0227,  0.0348],\n",
      "        [ 0.0134, -0.0024, -0.0048,  ..., -0.0271,  0.0350, -0.0094]],\n",
      "       requires_grad=True)\n",
      "torch.Size([10])\n",
      "Parameter containing:\n",
      "tensor([ 0.0216,  0.0308, -0.0228,  0.0216, -0.0345,  0.0026, -0.0314,  0.0104,\n",
      "         0.0068, -0.0084], requires_grad=True)\n"
     ]
    }
   ],
   "source": [
    "import torch.nn as nn\n",
    "\n",
    "input_size = 28*28\n",
    "num_classes = 10\n",
    "\n",
    "model = nn.Linear(input_size, num_classes)\n",
    "\n",
    "# nn.Linear expects each training example to be a vector, each 1x28x28 image tensor is\n",
    "# flattened into a vector of size 784 \n",
    "\n",
    "print(model.weight.shape)\n",
    "print(model.weight)\n",
    "\n",
    "print(model.bias.shape)\n",
    "print(model.bias)"
   ]
  },
  {
   "cell_type": "code",
   "execution_count": 55,
   "metadata": {},
   "outputs": [],
   "source": [
    "class MnistModel(nn.Module):\n",
    "    def __init__(self):\n",
    "        super().__init__()\n",
    "        self.linear = nn.Linear(input_size, num_classes)\n",
    "        \n",
    "    def forward(self, xb):\n",
    "        xb = xb.reshape(-1, 784) # intead of -1 you can use 128 but -1 is generic\n",
    "        out = self.linear(xb)\n",
    "        return out\n",
    "    \n",
    "model = MnistModel()"
   ]
  },
  {
   "cell_type": "code",
   "execution_count": 56,
   "metadata": {},
   "outputs": [
    {
     "data": {
      "text/plain": [
       "Linear(in_features=784, out_features=10, bias=True)"
      ]
     },
     "execution_count": 56,
     "metadata": {},
     "output_type": "execute_result"
    }
   ],
   "source": [
    "model.linear"
   ]
  },
  {
   "cell_type": "code",
   "execution_count": 57,
   "metadata": {},
   "outputs": [
    {
     "name": "stdout",
     "output_type": "stream",
     "text": [
      "torch.Size([10, 784]) torch.Size([10])\n"
     ]
    },
    {
     "data": {
      "text/plain": [
       "[Parameter containing:\n",
       " tensor([[-0.0254,  0.0337,  0.0139,  ...,  0.0189, -0.0306, -0.0191],\n",
       "         [ 0.0063, -0.0148,  0.0135,  ..., -0.0268, -0.0272, -0.0063],\n",
       "         [ 0.0327,  0.0232, -0.0292,  ..., -0.0004,  0.0352, -0.0194],\n",
       "         ...,\n",
       "         [-0.0005,  0.0254, -0.0258,  ..., -0.0029,  0.0275,  0.0077],\n",
       "         [ 0.0244,  0.0034, -0.0069,  ...,  0.0306,  0.0274,  0.0209],\n",
       "         [ 0.0227,  0.0028, -0.0014,  ...,  0.0053, -0.0328,  0.0186]],\n",
       "        requires_grad=True),\n",
       " Parameter containing:\n",
       " tensor([ 0.0104,  0.0138, -0.0092, -0.0269, -0.0177,  0.0279, -0.0325,  0.0264,\n",
       "          0.0263,  0.0001], requires_grad=True)]"
      ]
     },
     "execution_count": 57,
     "metadata": {},
     "output_type": "execute_result"
    }
   ],
   "source": [
    "print(model.linear.weight.shape, model.linear.bias.shape)\n",
    "list(model.parameters())"
   ]
  },
  {
   "cell_type": "code",
   "execution_count": 58,
   "metadata": {},
   "outputs": [
    {
     "name": "stdout",
     "output_type": "stream",
     "text": [
      "torch.Size([128, 1, 28, 28])\n",
      "outputs.shape :  torch.Size([128, 10])\n",
      "Sample outputs :\n",
      " tensor([[ 0.0573,  0.2162, -0.0186,  0.1319, -0.1342, -0.0178,  0.1091,  0.1644,\n",
      "         -0.0627,  0.0304],\n",
      "        [ 0.0830,  0.2585, -0.0521, -0.0387, -0.0870, -0.1552, -0.0264, -0.0101,\n",
      "          0.1677, -0.1304]])\n"
     ]
    }
   ],
   "source": [
    "for images, labels in train_loader:\n",
    "    print(images.shape)\n",
    "    outputs = model(images)\n",
    "    break\n",
    "\n",
    "print('outputs.shape : ', outputs.shape)\n",
    "print('Sample outputs :\\n', outputs[:2].data)"
   ]
  },
  {
   "cell_type": "code",
   "execution_count": 59,
   "metadata": {},
   "outputs": [
    {
     "data": {
      "text/plain": [
       "tensor([[ 0.0573,  0.2162, -0.0186,  0.1319, -0.1342, -0.0178,  0.1091,  0.1644,\n",
       "         -0.0627,  0.0304],\n",
       "        [ 0.0830,  0.2585, -0.0521, -0.0387, -0.0870, -0.1552, -0.0264, -0.0101,\n",
       "          0.1677, -0.1304]], grad_fn=<SliceBackward>)"
      ]
     },
     "execution_count": 59,
     "metadata": {},
     "output_type": "execute_result"
    }
   ],
   "source": [
    "# What softmax does raises e to the power of observation and divides it by the sum of all \n",
    "# such values for a prediction\n",
    "\n",
    "import torch.nn.functional as F\n",
    "outputs[:2]"
   ]
  },
  {
   "cell_type": "code",
   "execution_count": 60,
   "metadata": {},
   "outputs": [
    {
     "name": "stdout",
     "output_type": "stream",
     "text": [
      "Sample probabilities:\n",
      " tensor([[0.1004, 0.1177, 0.0931, 0.1082, 0.0829, 0.0932, 0.1058, 0.1118, 0.0891,\n",
      "         0.0978],\n",
      "        [0.1077, 0.1283, 0.0941, 0.0953, 0.0909, 0.0849, 0.0965, 0.0981, 0.1172,\n",
      "         0.0870]])\n"
     ]
    }
   ],
   "source": [
    "# Apply softmax for each output row\n",
    "probs = F.softmax(outputs, dim=1) # specify dimension along which the function should be applied\n",
    "print(\"Sample probabilities:\\n\", probs[:2].data)\n"
   ]
  },
  {
   "cell_type": "code",
   "execution_count": 61,
   "metadata": {},
   "outputs": [
    {
     "name": "stdout",
     "output_type": "stream",
     "text": [
      "tensor([1, 1, 0, 1, 1, 0, 0, 1, 8, 1, 1, 1, 1, 8, 5, 3, 1, 0, 8, 2, 1, 3, 4, 8,\n",
      "        2, 0, 0, 8, 1, 0, 0, 1, 3, 0, 2, 2, 1, 2, 0, 4, 0, 0, 0, 2, 2, 5, 2, 1,\n",
      "        0, 1, 8, 0, 2, 0, 0, 3, 4, 0, 2, 1, 1, 8, 1, 8, 1, 2, 1, 0, 8, 0, 0, 8,\n",
      "        1, 1, 0, 2, 1, 3, 2, 1, 4, 4, 1, 9, 0, 0, 2, 1, 5, 5, 8, 1, 2, 1, 0, 0,\n",
      "        8, 8, 0, 0, 1, 2, 0, 2, 0, 3, 8, 0, 8, 1, 4, 2, 8, 4, 3, 2, 0, 4, 1, 9,\n",
      "        0, 0, 0, 0, 3, 1, 0, 4])\n",
      "tensor([0.1177, 0.1283, 0.1433, 0.1207, 0.1496, 0.1351, 0.1263, 0.1310, 0.1342,\n",
      "        0.1159, 0.1189, 0.1301, 0.1993, 0.1083, 0.1161, 0.1393, 0.1356, 0.1363,\n",
      "        0.1229, 0.1355, 0.1136, 0.1172, 0.1170, 0.1339, 0.1451, 0.1294, 0.1339,\n",
      "        0.1203, 0.1437, 0.1330, 0.1349, 0.1515, 0.1227, 0.1220, 0.1410, 0.1476,\n",
      "        0.1442, 0.1221, 0.1291, 0.1189, 0.1188, 0.1444, 0.1299, 0.1168, 0.1246,\n",
      "        0.1182, 0.1219, 0.1370, 0.1350, 0.1161, 0.1433, 0.1339, 0.1555, 0.1345,\n",
      "        0.1230, 0.1217, 0.1185, 0.1333, 0.1506, 0.1136, 0.1572, 0.1225, 0.1195,\n",
      "        0.1197, 0.1398, 0.1193, 0.1249, 0.1310, 0.1243, 0.1201, 0.1223, 0.1143,\n",
      "        0.1293, 0.1678, 0.1267, 0.1297, 0.1440, 0.1279, 0.1283, 0.1320, 0.1212,\n",
      "        0.1289, 0.1286, 0.1219, 0.1295, 0.1494, 0.1415, 0.1373, 0.1146, 0.1232,\n",
      "        0.1407, 0.1380, 0.1307, 0.1299, 0.1283, 0.1248, 0.1253, 0.1239, 0.1324,\n",
      "        0.1399, 0.1488, 0.1540, 0.1344, 0.1365, 0.1448, 0.1384, 0.1259, 0.1116,\n",
      "        0.1175, 0.1320, 0.1361, 0.1140, 0.1330, 0.1271, 0.1242, 0.1448, 0.1422,\n",
      "        0.1192, 0.1319, 0.1284, 0.1209, 0.1259, 0.1239, 0.1210, 0.1366, 0.1455,\n",
      "        0.1175, 0.1194], grad_fn=<MaxBackward0>)\n"
     ]
    }
   ],
   "source": [
    "max_probs, preds = torch.max(probs, dim=1)\n",
    "print(preds)\n",
    "print(max_probs)"
   ]
  },
  {
   "cell_type": "code",
   "execution_count": 62,
   "metadata": {},
   "outputs": [
    {
     "data": {
      "text/plain": [
       "tensor([7, 5, 9, 3, 7, 9, 9, 3, 0, 1, 6, 2, 6, 4, 1, 3, 1, 4, 5, 5, 1, 4, 3, 6,\n",
       "        6, 7, 9, 6, 2, 5, 2, 2, 4, 3, 0, 0, 6, 5, 7, 7, 1, 8, 5, 3, 8, 1, 0, 2,\n",
       "        9, 7, 2, 0, 0, 0, 9, 6, 1, 7, 0, 4, 0, 2, 1, 5, 6, 5, 1, 4, 1, 3, 3, 3,\n",
       "        6, 2, 8, 0, 7, 3, 3, 2, 0, 3, 4, 2, 8, 7, 5, 2, 1, 4, 0, 4, 0, 7, 5, 1,\n",
       "        1, 3, 9, 2, 0, 0, 9, 5, 5, 3, 6, 7, 4, 7, 3, 2, 3, 3, 4, 0, 8, 9, 2, 2,\n",
       "        4, 7, 9, 3, 2, 6, 7, 3])"
      ]
     },
     "execution_count": 62,
     "metadata": {},
     "output_type": "execute_result"
    }
   ],
   "source": [
    "labels"
   ]
  },
  {
   "cell_type": "code",
   "execution_count": 63,
   "metadata": {},
   "outputs": [
    {
     "data": {
      "text/plain": [
       "tensor(11)"
      ]
     },
     "execution_count": 63,
     "metadata": {},
     "output_type": "execute_result"
    }
   ],
   "source": [
    "torch.sum(preds == labels) "
   ]
  },
  {
   "cell_type": "code",
   "execution_count": 64,
   "metadata": {},
   "outputs": [
    {
     "data": {
      "text/plain": [
       "tensor(0.0859)"
      ]
     },
     "execution_count": 64,
     "metadata": {},
     "output_type": "execute_result"
    }
   ],
   "source": [
    "def accuracy(outputs, labels):\n",
    "    _, preds = torch.max(outputs, dim=1)\n",
    "    return torch.tensor(torch.sum(preds == labels).item() / len(preds))\n",
    "\n",
    "accuracy(outputs, labels)"
   ]
  },
  {
   "cell_type": "code",
   "execution_count": 65,
   "metadata": {},
   "outputs": [
    {
     "data": {
      "text/plain": [
       "tensor([[ 0.0573,  0.2162, -0.0186,  ...,  0.1644, -0.0627,  0.0304],\n",
       "        [ 0.0830,  0.2585, -0.0521,  ..., -0.0101,  0.1677, -0.1304],\n",
       "        [ 0.4987,  0.4534, -0.1353,  ..., -0.3043, -0.0275,  0.0514],\n",
       "        ...,\n",
       "        [ 0.0690,  0.3600,  0.0888,  ..., -0.1382, -0.1666, -0.1394],\n",
       "        [ 0.2120,  0.1177, -0.0741,  ..., -0.0316, -0.0654,  0.0149],\n",
       "        [ 0.1301,  0.2671,  0.2032,  ..., -0.0735,  0.0695,  0.1584]],\n",
       "       grad_fn=<AddmmBackward>)"
      ]
     },
     "execution_count": 65,
     "metadata": {},
     "output_type": "execute_result"
    }
   ],
   "source": [
    "# Accuracy is an excellent way for us (humans) to evaluate the model. However, we can't use\n",
    "# it as a loss function for optimizing our model because:\n",
    "# 1. It's not a differentiable function (torch.max and == are both non-continuous)\n",
    "# 2.  doesn't take into account the actual probabilities predicted by the model\n",
    "# we ue cross entropy instead \n",
    "\n",
    "# For each output row, pick the predicted probability for the correct label\n",
    "# if the predicted probabilities re [0.1, 0.3, 0.2, ...] and the correct label is 1, pick 0.3\n",
    "# Then, take the logarithm of the picked probability\n",
    "#  If the probability is high, i.e., close to 1, then its logarithm is a very small negative value\n",
    "# And if the probability is low (close to 0), then the logarithm is a very large negative value.\n",
    "# also multiply the result by -1, it gives large postive value of the loss for poor predictions.\n",
    "\n",
    "# Unlike accuracy, cross-entropy is a continuous and differentiable function.\n",
    "\n",
    "outputs"
   ]
  },
  {
   "cell_type": "code",
   "execution_count": 66,
   "metadata": {},
   "outputs": [
    {
     "name": "stdout",
     "output_type": "stream",
     "text": [
      "tensor(2.3403, grad_fn=<NllLossBackward>)\n"
     ]
    }
   ],
   "source": [
    "loss_fn = F.cross_entropy\n",
    "\n",
    "loss = loss_fn(outputs, labels)\n",
    "print(loss) # lower the loss, The better the model."
   ]
  },
  {
   "cell_type": "raw",
   "metadata": {},
   "source": [
    "For epoch in range(num_epochs):\n",
    "    # Training phase\n",
    "    for batch in train_loader:\n",
    "        # Generate predictions\n",
    "        # Calculate loss\n",
    "        # Compute gradients\n",
    "        # Update weights\n",
    "        # Reset gradients\n",
    "    \n",
    "    # Validation phase\n",
    "    for batch in val_loader:\n",
    "        # Generate predictions\n",
    "        # Calculate loss\n",
    "        # Calculate metrics (accuracy etc.)\n",
    "    # Calculate average validation loss & metrics\n",
    "    \n",
    "    # Log epoch, loss & metrics for inspection"
   ]
  },
  {
   "cell_type": "code",
   "execution_count": 68,
   "metadata": {},
   "outputs": [],
   "source": [
    "def fit(epochs, lr, model, train_loader, val_loader, opt_func=torch.optim.SGD):\n",
    "    optimizer = opt_func(model.parameters(), lr)\n",
    "    history = [] # for recording epoch-wise results\n",
    "    \n",
    "    for epoch in range(epochs):\n",
    "        \n",
    "        # Training Phase \n",
    "        for batch in train_loader:\n",
    "            loss = model.training_step(batch)\n",
    "            loss.backward()\n",
    "            optimizer.step()\n",
    "            optimizer.zero_grad()\n",
    "        \n",
    "        # Validation phase\n",
    "        result = evaluate(model, val_loader)\n",
    "        model.epoch_end(epoch, result)\n",
    "        history.append(result)\n",
    "\n",
    "    return history"
   ]
  },
  {
   "cell_type": "code",
   "execution_count": 69,
   "metadata": {},
   "outputs": [],
   "source": [
    "def evaluate(model, val_loader):\n",
    "    outputs = [model.validation_step(batch) for batch in val_loader]\n",
    "    return model.validation_epoch_end(outputs)"
   ]
  },
  {
   "cell_type": "code",
   "execution_count": 70,
   "metadata": {},
   "outputs": [],
   "source": [
    "class MnistModel(nn.Module):\n",
    "    def __init__(self):\n",
    "        super().__init__()\n",
    "        self.linear = nn.Linear(input_size, num_classes)\n",
    "        \n",
    "    def forward(self, xb):\n",
    "        xb = xb.reshape(-1, 784)\n",
    "        out = self.linear(xb)\n",
    "        return out\n",
    "    \n",
    "    def training_step(self, batch):\n",
    "        images, labels = batch \n",
    "        out = self(images)                  # Generate predictions\n",
    "        loss = F.cross_entropy(out, labels) # Calculate loss\n",
    "        return loss\n",
    "    \n",
    "    def validation_step(self, batch):\n",
    "        images, labels = batch \n",
    "        out = self(images)                    # Generate predictions\n",
    "        loss = F.cross_entropy(out, labels)   # Calculate loss\n",
    "        acc = accuracy(out, labels)           # Calculate accuracy\n",
    "        return {'val_loss': loss, 'val_acc': acc}\n",
    "        \n",
    "    def validation_epoch_end(self, outputs):\n",
    "        batch_losses = [x['val_loss'] for x in outputs]\n",
    "        epoch_loss = torch.stack(batch_losses).mean()   # Combine losses\n",
    "        batch_accs = [x['val_acc'] for x in outputs]\n",
    "        epoch_acc = torch.stack(batch_accs).mean()      # Combine accuracies\n",
    "        return {'val_loss': epoch_loss.item(), 'val_acc': epoch_acc.item()}\n",
    "    \n",
    "    def epoch_end(self, epoch, result):\n",
    "        print(\"Epoch [{}], val_loss: {:.4f}, val_acc: {:.4f}\".format(epoch, result['val_loss'], result['val_acc']))\n",
    "    \n",
    "model = MnistModel()"
   ]
  },
  {
   "cell_type": "code",
   "execution_count": 71,
   "metadata": {},
   "outputs": [
    {
     "data": {
      "text/plain": [
       "{'val_loss': 2.3279037475585938, 'val_acc': 0.10245253145694733}"
      ]
     },
     "execution_count": 71,
     "metadata": {},
     "output_type": "execute_result"
    }
   ],
   "source": [
    "result0 = evaluate(model, val_loader)\n",
    "result0"
   ]
  },
  {
   "cell_type": "code",
   "execution_count": 72,
   "metadata": {},
   "outputs": [
    {
     "name": "stdout",
     "output_type": "stream",
     "text": [
      "Epoch [0], val_loss: 1.9649, val_acc: 0.5861\n",
      "Epoch [1], val_loss: 1.6955, val_acc: 0.7228\n",
      "Epoch [2], val_loss: 1.4933, val_acc: 0.7614\n",
      "Epoch [3], val_loss: 1.3405, val_acc: 0.7797\n",
      "Epoch [4], val_loss: 1.2231, val_acc: 0.7933\n"
     ]
    }
   ],
   "source": [
    "history1 = fit(5, 0.001, model, train_loader, val_loader)"
   ]
  },
  {
   "cell_type": "code",
   "execution_count": 73,
   "metadata": {},
   "outputs": [
    {
     "name": "stdout",
     "output_type": "stream",
     "text": [
      "Epoch [0], val_loss: 1.1310, val_acc: 0.8033\n",
      "Epoch [1], val_loss: 1.0572, val_acc: 0.8105\n",
      "Epoch [2], val_loss: 0.9969, val_acc: 0.8160\n",
      "Epoch [3], val_loss: 0.9468, val_acc: 0.8202\n",
      "Epoch [4], val_loss: 0.9045, val_acc: 0.8244\n"
     ]
    }
   ],
   "source": [
    "history2 = fit(5, 0.001, model, train_loader, val_loader)"
   ]
  },
  {
   "cell_type": "code",
   "execution_count": 74,
   "metadata": {},
   "outputs": [
    {
     "name": "stdout",
     "output_type": "stream",
     "text": [
      "Epoch [0], val_loss: 0.8683, val_acc: 0.8274\n",
      "Epoch [1], val_loss: 0.8369, val_acc: 0.8317\n",
      "Epoch [2], val_loss: 0.8094, val_acc: 0.8353\n",
      "Epoch [3], val_loss: 0.7852, val_acc: 0.8371\n",
      "Epoch [4], val_loss: 0.7636, val_acc: 0.8396\n"
     ]
    }
   ],
   "source": [
    "history3 = fit(5, 0.001, model, train_loader, val_loader)"
   ]
  },
  {
   "cell_type": "code",
   "execution_count": 75,
   "metadata": {},
   "outputs": [
    {
     "name": "stdout",
     "output_type": "stream",
     "text": [
      "Epoch [0], val_loss: 0.7442, val_acc: 0.8418\n",
      "Epoch [1], val_loss: 0.7268, val_acc: 0.8438\n",
      "Epoch [2], val_loss: 0.7109, val_acc: 0.8450\n",
      "Epoch [3], val_loss: 0.6964, val_acc: 0.8463\n",
      "Epoch [4], val_loss: 0.6832, val_acc: 0.8468\n"
     ]
    }
   ],
   "source": [
    "history4 = fit(5, 0.001, model, train_loader, val_loader)"
   ]
  },
  {
   "cell_type": "code",
   "execution_count": 76,
   "metadata": {},
   "outputs": [
    {
     "data": {
      "image/png": "[encoded data removed]",
      "text/plain": [
       "<Figure size 432x288 with 1 Axes>"
      ]
     },
     "metadata": {
      "needs_background": "light"
     },
     "output_type": "display_data"
    }
   ],
   "source": [
    "history = [result0] + history1 + history2 + history3 + history4\n",
    "accuracies = [result['val_acc'] for result in history]\n",
    "plt.plot(accuracies, '-x')\n",
    "plt.xlabel('epoch')\n",
    "plt.ylabel('accuracy')\n",
    "plt.title('Accuracy vs. No. of epochs');"
   ]
  },
  {
   "cell_type": "code",
   "execution_count": 77,
   "metadata": {},
   "outputs": [
    {
     "name": "stdout",
     "output_type": "stream",
     "text": [
      "Label: 7 , Predicted: 7\n"
     ]
    },
    {
     "data": {
      "image/png": "[encoded data removed]",
      "text/plain": [
       "<Figure size 432x288 with 1 Axes>"
      ]
     },
     "metadata": {
      "needs_background": "light"
     },
     "output_type": "display_data"
    }
   ],
   "source": [
    "# Define test dataset\n",
    "test_dataset = MNIST(root='data/', \n",
    "                     train=False,\n",
    "                     transform=transforms.ToTensor())\n",
    "\n",
    "def predict_image(img, model):\n",
    "    xb = img.unsqueeze(0)\n",
    "    yb = model(xb)\n",
    "    _, preds = torch.max(yb, dim=1)\n",
    "    return preds[0].item()\n",
    "\n",
    "img, label = test_dataset[0]\n",
    "plt.imshow(img[0], cmap='gray')\n",
    "print('Label:', label, ', Predicted:', predict_image(img, model))"
   ]
  },
  {
   "cell_type": "code",
   "execution_count": 79,
   "metadata": {},
   "outputs": [
    {
     "name": "stdout",
     "output_type": "stream",
     "text": [
      "Label: 2 , Predicted: 8\n"
     ]
    },
    {
     "data": {
      "image/png": "[encoded data removed]",
      "text/plain": [
       "<Figure size 432x288 with 1 Axes>"
      ]
     },
     "metadata": {
      "needs_background": "light"
     },
     "output_type": "display_data"
    }
   ],
   "source": [
    "img, label = test_dataset[1839]\n",
    "plt.imshow(img[0], cmap='gray')\n",
    "print('Label:', label, ', Predicted:', predict_image(img, model))"
   ]
  },
  {
   "cell_type": "code",
   "execution_count": 80,
   "metadata": {},
   "outputs": [
    {
     "data": {
      "text/plain": [
       "{'val_loss': 0.640444815158844, 'val_acc': 0.863964855670929}"
      ]
     },
     "execution_count": 80,
     "metadata": {},
     "output_type": "execute_result"
    }
   ],
   "source": [
    "test_loader = DataLoader(test_dataset, batch_size=256)\n",
    "result = evaluate(model, test_loader)\n",
    "result"
   ]
  },
  {
   "cell_type": "code",
   "execution_count": 81,
   "metadata": {},
   "outputs": [
    {
     "data": {
      "text/plain": [
       "OrderedDict([('linear.weight',\n",
       "              tensor([[ 0.0346, -0.0096, -0.0247,  ..., -0.0223, -0.0065,  0.0133],\n",
       "                      [ 0.0078, -0.0252,  0.0003,  ...,  0.0222,  0.0329,  0.0084],\n",
       "                      [-0.0016,  0.0152, -0.0051,  ...,  0.0115, -0.0262, -0.0073],\n",
       "                      ...,\n",
       "                      [-0.0187, -0.0135, -0.0143,  ...,  0.0020,  0.0180, -0.0156],\n",
       "                      [-0.0213, -0.0058, -0.0115,  ..., -0.0328, -0.0236,  0.0242],\n",
       "                      [-0.0230, -0.0344,  0.0161,  ..., -0.0239, -0.0227, -0.0077]])),\n",
       "             ('linear.bias',\n",
       "              tensor([-0.0780,  0.0813,  0.0116, -0.0020,  0.0584,  0.0426, -0.0121,  0.0296,\n",
       "                      -0.1038, -0.0345]))])"
      ]
     },
     "execution_count": 81,
     "metadata": {},
     "output_type": "execute_result"
    }
   ],
   "source": [
    "# saving the model using the folliwing \n",
    "# torch.save(model.state_dict(), 'mnist-logistic.pth')\n",
    "# The .state_dict method returns an OrderedDict containing all the weights and \n",
    "# bias matrices mapped to the right attributes\n",
    "\n",
    "model.state_dict() # display"
   ]
  },
  {
   "cell_type": "code",
   "execution_count": 82,
   "metadata": {},
   "outputs": [
    {
     "data": {
      "text/plain": [
       "OrderedDict([('linear.weight',\n",
       "              tensor([[ 4.9802e-03,  4.9483e-03,  1.2466e-02,  ..., -1.4335e-02,\n",
       "                       -2.7517e-02, -2.9769e-02],\n",
       "                      [ 1.8159e-03, -8.4984e-03, -6.7797e-05,  ..., -1.4476e-02,\n",
       "                       -2.1763e-02, -1.1465e-02],\n",
       "                      [-1.9808e-02,  2.5512e-02, -5.7722e-03,  ..., -2.2619e-03,\n",
       "                       -3.2766e-02, -1.1857e-02],\n",
       "                      ...,\n",
       "                      [-2.5890e-02, -3.4611e-02,  2.2216e-02,  ..., -9.8193e-03,\n",
       "                       -2.2909e-03, -6.5510e-03],\n",
       "                      [-3.5325e-02, -6.3423e-04,  1.7142e-03,  ..., -9.6942e-04,\n",
       "                        2.6971e-02,  3.0840e-02],\n",
       "                      [-1.9800e-02,  1.1469e-02,  3.0236e-02,  ...,  3.4387e-02,\n",
       "                        1.6876e-02, -3.0153e-02]])),\n",
       "             ('linear.bias',\n",
       "              tensor([-0.0123, -0.0212, -0.0120,  0.0179, -0.0116, -0.0033, -0.0341, -0.0175,\n",
       "                      -0.0072,  0.0089]))])"
      ]
     },
     "execution_count": 82,
     "metadata": {},
     "output_type": "execute_result"
    }
   ],
   "source": [
    "model2 = MnistModel() # create a new model and \n",
    "model2.state_dict() # will conain randomised weights"
   ]
  },
  {
   "cell_type": "code",
   "execution_count": 83,
   "metadata": {},
   "outputs": [
    {
     "data": {
      "text/plain": [
       "{'val_loss': 2.355764627456665, 'val_acc': 0.06816406548023224}"
      ]
     },
     "execution_count": 83,
     "metadata": {},
     "output_type": "execute_result"
    }
   ],
   "source": [
    "evaluate(model2, test_loader)"
   ]
  },
  {
   "cell_type": "code",
   "execution_count": 84,
   "metadata": {},
   "outputs": [
    {
     "data": {
      "text/plain": [
       "{'val_loss': 0.640444815158844, 'val_acc': 0.863964855670929}"
      ]
     },
     "execution_count": 84,
     "metadata": {},
     "output_type": "execute_result"
    }
   ],
   "source": [
    "evaluate(model, test_loader)"
   ]
  },
  {
   "cell_type": "code",
   "execution_count": null,
   "metadata": {},
   "outputs": [],
   "source": [
    "model2.load_state_dict(torch.load('mnist-logistic.pth'))\n",
    "result = evaluate(model2, test_loader)\n",
    "result"
   ]
  },
  {
   "cell_type": "markdown",
   "metadata": {},
   "source": [
    "# MNIST USING DEEP LEARNING"
   ]
  },
  {
   "cell_type": "code",
   "execution_count": 86,
   "metadata": {},
   "outputs": [],
   "source": [
    "import torch\n",
    "import torchvision\n",
    "import numpy as np\n",
    "import matplotlib\n",
    "import matplotlib.pyplot as plt\n",
    "import torch.nn as nn\n",
    "import torch.nn.functional as F\n",
    "from torchvision.datasets import MNIST\n",
    "from torchvision.transforms import ToTensor\n",
    "from torchvision.utils import make_grid\n",
    "from torch.utils.data.dataloader import DataLoader\n",
    "from torch.utils.data import random_split\n",
    "%matplotlib inline\n",
    "\n",
    "# Use a white background for matplotlib figures\n",
    "matplotlib.rcParams['figure.facecolor'] = '#ffffff'"
   ]
  },
  {
   "cell_type": "code",
   "execution_count": 89,
   "metadata": {},
   "outputs": [
    {
     "data": {
      "text/plain": [
       "(50000, 10000)"
      ]
     },
     "execution_count": 89,
     "metadata": {},
     "output_type": "execute_result"
    }
   ],
   "source": [
    "dataset = MNIST(root='data/', download=False, transform=ToTensor())\n",
    "\n",
    "val_size = 10000\n",
    "train_size = len(dataset) - val_size\n",
    "\n",
    "train_ds, val_ds = random_split(dataset, [train_size, val_size])\n",
    "len(train_ds), len(val_ds)"
   ]
  },
  {
   "cell_type": "code",
   "execution_count": 92,
   "metadata": {},
   "outputs": [],
   "source": [
    "batch_size=128\n",
    "train_loader = DataLoader(train_ds, batch_size, shuffle=True, num_workers=4, pin_memory=True)\n",
    "val_loader = DataLoader(val_ds, batch_size*2, num_workers=4, pin_memory=True)\n",
    "# pin_memory - allocate the samples in page-locked memory, which speeds-up the transfer.\n",
    "# num_workers - for parallelization"
   ]
  },
  {
   "cell_type": "code",
   "execution_count": 93,
   "metadata": {},
   "outputs": [
    {
     "name": "stdout",
     "output_type": "stream",
     "text": [
      "images.shape: torch.Size([128, 1, 28, 28])\n"
     ]
    },
    {
     "data": {
      "image/png": "[encoded data removed]",
      "text/plain": [
       "<Figure size 1152x576 with 1 Axes>"
      ]
     },
     "metadata": {},
     "output_type": "display_data"
    }
   ],
   "source": [
    "for images, _ in train_loader:\n",
    "    print('images.shape:', images.shape)\n",
    "    plt.figure(figsize=(16,8))\n",
    "    plt.axis('off')\n",
    "    plt.imshow(make_grid(images, nrow=16).permute((1, 2, 0)))\n",
    "    break"
   ]
  },
  {
   "cell_type": "code",
   "execution_count": 95,
   "metadata": {},
   "outputs": [
    {
     "name": "stdout",
     "output_type": "stream",
     "text": [
      "images.shape: torch.Size([128, 1, 28, 28])\n",
      "inputs.shape: torch.Size([128, 784])\n"
     ]
    }
   ],
   "source": [
    "for images, labels in train_loader:\n",
    "    print('images.shape:', images.shape)\n",
    "    inputs = images.reshape(-1, 784)\n",
    "    print('inputs.shape:', inputs.shape)\n",
    "    break"
   ]
  },
  {
   "cell_type": "code",
   "execution_count": 96,
   "metadata": {},
   "outputs": [
    {
     "name": "stdout",
     "output_type": "stream",
     "text": [
      "torch.Size([128, 10])\n"
     ]
    }
   ],
   "source": [
    "input_size = inputs.shape[-1]\n",
    "hidden_size = 32\n",
    "layer1 = nn.Linear(input_size, hidden_size)\n",
    "output_size = 10\n",
    "layer2 = nn.Linear(hidden_size, output_size)\n",
    "\n",
    "\n",
    "layer1_outputs = layer1(inputs)\n",
    "relu_outputs = F.relu(layer1_outputs)\n",
    "layer2_outputs = layer2(relu_outputs)\n",
    "\n",
    "print(layer2_outputs.shape)"
   ]
  },
  {
   "cell_type": "code",
   "execution_count": 97,
   "metadata": {},
   "outputs": [
    {
     "data": {
      "text/plain": [
       "tensor(2.2807, grad_fn=<NllLossBackward>)"
      ]
     },
     "execution_count": 97,
     "metadata": {},
     "output_type": "execute_result"
    }
   ],
   "source": [
    "F.cross_entropy(layer2_outputs, labels)"
   ]
  },
  {
   "cell_type": "code",
   "execution_count": 98,
   "metadata": {},
   "outputs": [],
   "source": [
    "class MnistModel(nn.Module):\n",
    "    \"\"\"Feedfoward neural network with 1 hidden layer\"\"\"\n",
    "    def __init__(self, in_size, hidden_size, out_size):\n",
    "        super().__init__()\n",
    "        # hidden layer\n",
    "        self.linear1 = nn.Linear(in_size, hidden_size)\n",
    "        # output layer\n",
    "        self.linear2 = nn.Linear(hidden_size, out_size)\n",
    "        \n",
    "    def forward(self, xb):\n",
    "        # Flatten the image tensors\n",
    "        xb = xb.view(xb.size(0), -1)\n",
    "        # Get intermediate outputs using hidden layer\n",
    "        out = self.linear1(xb)\n",
    "        # Apply activation function\n",
    "        out = F.relu(out)\n",
    "        # Get predictions using output layer\n",
    "        out = self.linear2(out)\n",
    "        return out\n",
    "    \n",
    "    def training_step(self, batch):\n",
    "        images, labels = batch \n",
    "        out = self(images)                  # Generate predictions\n",
    "        loss = F.cross_entropy(out, labels) # Calculate loss\n",
    "        return loss\n",
    "    \n",
    "    def validation_step(self, batch):\n",
    "        images, labels = batch \n",
    "        out = self(images)                    # Generate predictions\n",
    "        loss = F.cross_entropy(out, labels)   # Calculate loss\n",
    "        acc = accuracy(out, labels)           # Calculate accuracy\n",
    "        return {'val_loss': loss, 'val_acc': acc}\n",
    "        \n",
    "    def validation_epoch_end(self, outputs):\n",
    "        batch_losses = [x['val_loss'] for x in outputs]\n",
    "        epoch_loss = torch.stack(batch_losses).mean()   # Combine losses\n",
    "        batch_accs = [x['val_acc'] for x in outputs]\n",
    "        epoch_acc = torch.stack(batch_accs).mean()      # Combine accuracies\n",
    "        return {'val_loss': epoch_loss.item(), 'val_acc': epoch_acc.item()}\n",
    "    \n",
    "    def epoch_end(self, epoch, result):\n",
    "        print(\"Epoch [{}], val_loss: {:.4f}, val_acc: {:.4f}\".format(epoch, result['val_loss'], result['val_acc']))"
   ]
  },
  {
   "cell_type": "code",
   "execution_count": 99,
   "metadata": {},
   "outputs": [],
   "source": [
    "def accuracy(outputs, labels):\n",
    "    _, preds = torch.max(outputs, dim=1)\n",
    "    return torch.tensor(torch.sum(preds == labels).item() / len(preds))"
   ]
  },
  {
   "cell_type": "code",
   "execution_count": 101,
   "metadata": {},
   "outputs": [],
   "source": [
    "input_size = 784\n",
    "hidden_size = 32 # you can change this\n",
    "num_classes = 10\n",
    "\n",
    "model = MnistModel(input_size, hidden_size=32, out_size=num_classes)"
   ]
  },
  {
   "cell_type": "code",
   "execution_count": 102,
   "metadata": {},
   "outputs": [
    {
     "name": "stdout",
     "output_type": "stream",
     "text": [
      "torch.Size([32, 784])\n",
      "torch.Size([32])\n",
      "torch.Size([10, 32])\n",
      "torch.Size([10])\n"
     ]
    }
   ],
   "source": [
    "for t in model.parameters():\n",
    "    print(t.shape)"
   ]
  },
  {
   "cell_type": "code",
   "execution_count": 103,
   "metadata": {},
   "outputs": [
    {
     "name": "stdout",
     "output_type": "stream",
     "text": [
      "Loss: 2.2829806804656982\n",
      "outputs.shape :  torch.Size([128, 10])\n",
      "Sample outputs :\n",
      " tensor([[ 0.0806,  0.0509,  0.0248,  0.0527,  0.1005, -0.0288, -0.0143, -0.1239,\n",
      "         -0.2039,  0.1802],\n",
      "        [ 0.0684, -0.0223, -0.0303,  0.0550,  0.1995, -0.0663, -0.0870, -0.0436,\n",
      "         -0.0862,  0.1302]])\n"
     ]
    }
   ],
   "source": [
    "for images, labels in train_loader:\n",
    "    outputs = model(images)\n",
    "    loss = F.cross_entropy(outputs, labels)\n",
    "    print('Loss:', loss.item())\n",
    "    break\n",
    "\n",
    "print('outputs.shape : ', outputs.shape)\n",
    "print('Sample outputs :\\n', outputs[:2].data)"
   ]
  },
  {
   "cell_type": "code",
   "execution_count": 105,
   "metadata": {},
   "outputs": [
    {
     "data": {
      "text/plain": [
       "device(type='cuda')"
      ]
     },
     "execution_count": 105,
     "metadata": {},
     "output_type": "execute_result"
    }
   ],
   "source": [
    "def get_default_device():\n",
    "    \"\"\"Pick GPU if available, else CPU\"\"\"\n",
    "    if torch.cuda.is_available():\n",
    "        return torch.device('cuda')\n",
    "    else:\n",
    "        return torch.device('cpu')\n",
    "\n",
    "device = get_default_device()\n",
    "device"
   ]
  },
  {
   "cell_type": "code",
   "execution_count": 106,
   "metadata": {},
   "outputs": [],
   "source": [
    "def to_device(data, device):\n",
    "    \"\"\"Move tensor(s) to chosen device\"\"\"\n",
    "    if isinstance(data, (list,tuple)):\n",
    "        return [to_device(x, device) for x in data]\n",
    "    return data.to(device, non_blocking=True)"
   ]
  },
  {
   "cell_type": "code",
   "execution_count": 107,
   "metadata": {},
   "outputs": [
    {
     "name": "stdout",
     "output_type": "stream",
     "text": [
      "torch.Size([128, 1, 28, 28])\n",
      "cuda:0\n"
     ]
    }
   ],
   "source": [
    "for images, labels in train_loader:\n",
    "    print(images.shape)\n",
    "    images = to_device(images, device)\n",
    "    print(images.device)\n",
    "    break"
   ]
  },
  {
   "cell_type": "code",
   "execution_count": 108,
   "metadata": {},
   "outputs": [],
   "source": [
    "class DeviceDataLoader():\n",
    "    \"\"\"Wrap a dataloader to move data to a device\"\"\"\n",
    "    def __init__(self, dl, device):\n",
    "        self.dl = dl\n",
    "        self.device = device\n",
    "        \n",
    "    def __iter__(self):\n",
    "        \"\"\"Yield a batch of data after moving it to device\"\"\"\n",
    "        for b in self.dl: \n",
    "            yield to_device(b, self.device)\n",
    "\n",
    "    def __len__(self):\n",
    "        \"\"\"Number of batches\"\"\"\n",
    "        return len(self.dl)\n",
    "    \n",
    "# we define a DeviceDataLoader class to wrap our existing data loaders and move batches of \n",
    "# data to the selected device. Interestingly, we don't need to extend an existing class to \n",
    "# create a PyTorch datal oader. All we need is an __iter__ method to retrieve batches of \n",
    "# data and an __len__ method to get the number of batches."
   ]
  },
  {
   "cell_type": "code",
   "execution_count": 109,
   "metadata": {},
   "outputs": [],
   "source": [
    "train_loader = DeviceDataLoader(train_loader, device)\n",
    "val_loader = DeviceDataLoader(val_loader, device)"
   ]
  },
  {
   "cell_type": "code",
   "execution_count": 110,
   "metadata": {},
   "outputs": [],
   "source": [
    "def evaluate(model, val_loader):\n",
    "    \"\"\"Evaluate the model's performance on the validation set\"\"\"\n",
    "    outputs = [model.validation_step(batch) for batch in val_loader]\n",
    "    return model.validation_epoch_end(outputs)\n",
    "\n",
    "def fit(epochs, lr, model, train_loader, val_loader, opt_func=torch.optim.SGD):\n",
    "    \"\"\"Train the model using gradient descent\"\"\"\n",
    "    history = []\n",
    "    optimizer = opt_func(model.parameters(), lr)\n",
    "    for epoch in range(epochs):\n",
    "        # Training Phase \n",
    "        for batch in train_loader:\n",
    "            loss = model.training_step(batch)\n",
    "            loss.backward()\n",
    "            optimizer.step()\n",
    "            optimizer.zero_grad()\n",
    "        # Validation phase\n",
    "        result = evaluate(model, val_loader)\n",
    "        model.epoch_end(epoch, result)\n",
    "        history.append(result)\n",
    "    return history"
   ]
  },
  {
   "cell_type": "code",
   "execution_count": 111,
   "metadata": {},
   "outputs": [
    {
     "data": {
      "text/plain": [
       "MnistModel(\n",
       "  (linear1): Linear(in_features=784, out_features=32, bias=True)\n",
       "  (linear2): Linear(in_features=32, out_features=10, bias=True)\n",
       ")"
      ]
     },
     "execution_count": 111,
     "metadata": {},
     "output_type": "execute_result"
    }
   ],
   "source": [
    "# Model (on GPU)\n",
    "model = MnistModel(input_size, hidden_size=hidden_size, out_size=num_classes)\n",
    "to_device(model, device)"
   ]
  },
  {
   "cell_type": "code",
   "execution_count": 112,
   "metadata": {},
   "outputs": [
    {
     "data": {
      "text/plain": [
       "[{'val_loss': 2.3009583950042725, 'val_acc': 0.10625000298023224}]"
      ]
     },
     "execution_count": 112,
     "metadata": {},
     "output_type": "execute_result"
    }
   ],
   "source": [
    "history = [evaluate(model, val_loader)] \n",
    "history # initial run"
   ]
  },
  {
   "cell_type": "code",
   "execution_count": 113,
   "metadata": {},
   "outputs": [
    {
     "name": "stdout",
     "output_type": "stream",
     "text": [
      "Epoch [0], val_loss: 0.2686, val_acc: 0.9217\n",
      "Epoch [1], val_loss: 0.2022, val_acc: 0.9411\n",
      "Epoch [2], val_loss: 0.1745, val_acc: 0.9526\n",
      "Epoch [3], val_loss: 0.1499, val_acc: 0.9571\n",
      "Epoch [4], val_loss: 0.1410, val_acc: 0.9590\n"
     ]
    }
   ],
   "source": [
    "history += fit(5, 0.5, model, train_loader, val_loader)"
   ]
  },
  {
   "cell_type": "code",
   "execution_count": 114,
   "metadata": {},
   "outputs": [
    {
     "name": "stdout",
     "output_type": "stream",
     "text": [
      "Epoch [0], val_loss: 0.1302, val_acc: 0.9617\n",
      "Epoch [1], val_loss: 0.1296, val_acc: 0.9616\n",
      "Epoch [2], val_loss: 0.1254, val_acc: 0.9622\n",
      "Epoch [3], val_loss: 0.1250, val_acc: 0.9624\n",
      "Epoch [4], val_loss: 0.1272, val_acc: 0.9620\n"
     ]
    }
   ],
   "source": [
    "history += fit(5, 0.1, model, train_loader, val_loader)"
   ]
  },
  {
   "cell_type": "code",
   "execution_count": 115,
   "metadata": {},
   "outputs": [
    {
     "data": {
      "image/png": "[encoded data removed]",
      "text/plain": [
       "<Figure size 432x288 with 1 Axes>"
      ]
     },
     "metadata": {},
     "output_type": "display_data"
    }
   ],
   "source": [
    "losses = [x['val_loss'] for x in history]\n",
    "plt.plot(losses, '-x')\n",
    "plt.xlabel('epoch')\n",
    "plt.ylabel('loss')\n",
    "plt.title('Loss vs. No. of epochs');"
   ]
  },
  {
   "cell_type": "code",
   "execution_count": 116,
   "metadata": {},
   "outputs": [
    {
     "data": {
      "image/png": "[encoded data removed]",
      "text/plain": [
       "<Figure size 432x288 with 1 Axes>"
      ]
     },
     "metadata": {},
     "output_type": "display_data"
    }
   ],
   "source": [
    "accuracies = [x['val_acc'] for x in history]\n",
    "plt.plot(accuracies, '-x')\n",
    "plt.xlabel('epoch')\n",
    "plt.ylabel('accuracy')\n",
    "plt.title('Accuracy vs. No. of epochs');"
   ]
  },
  {
   "cell_type": "code",
   "execution_count": null,
   "metadata": {},
   "outputs": [],
   "source": []
  }
 ],
 "metadata": {
  "kernelspec": {
   "display_name": "Python 3",
   "language": "python",
   "name": "python3"
  },
  "language_info": {
   "codemirror_mode": {
    "name": "ipython",
    "version": 3
   },
   "file_extension": ".py",
   "mimetype": "text/x-python",
   "name": "python",
   "nbconvert_exporter": "python",
   "pygments_lexer": "ipython3",
   "version": "3.7.7"
  }
 },
 "nbformat": 4,
 "nbformat_minor": 4
}
